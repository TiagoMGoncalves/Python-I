{
 "cells": [
  {
   "cell_type": "markdown",
   "id": "3d565036",
   "metadata": {},
   "source": [
    "# 1. Comandos de repetição\n",
    "## 1.1 Conceitos básicos\n",
    "\n",
    "Há casos em que é preciso que um **bloco de comandos** seja executado mais de uma vez se determinada **condição for verdadeira**.\n",
    "\n",
    "De acordo com a condição, os comandos serão **repetidos zero** (se a condição for falsa) ou **mais vezes**, enquanto a condição for verdadeira. Essa estrutura é normalmente denominada **laço ou loop**.\n",
    "\n",
    "Para isso precisamos de **comandos de repetição**.\n",
    "\n",
    "**EXEMPLO:** Por exemplo, para imprimir três números em tela poderíamos escrever um programa como:\n"
   ]
  },
  {
   "cell_type": "code",
   "execution_count": null,
   "id": "0cd8eeb3",
   "metadata": {
    "scrolled": true
   },
   "outputs": [],
   "source": [
    "print(1)\n",
    "print(2)\n",
    "print(3)"
   ]
  },
  {
   "cell_type": "markdown",
   "id": "27a15354",
   "metadata": {},
   "source": [
    "O mesmo programa poderia ser escrito da forma abaixo:\n"
   ]
  },
  {
   "cell_type": "code",
   "execution_count": null,
   "id": "2dc71dd4",
   "metadata": {},
   "outputs": [],
   "source": [
    "x = 1\n",
    "print(x)\n",
    "x = x + 1\n",
    "print(x)\n",
    "x = x + 1\n",
    "print(x)"
   ]
  },
  {
   "cell_type": "markdown",
   "id": "4eb4f32c",
   "metadata": {},
   "source": [
    "**Problema**: Elabore um programa que exiba em tela os números inteiros de 1 a 1000.\n",
    "<br>\n",
    "<img width=\"15%\" src=\"imagens/pensando01.png\">\n"
   ]
  },
  {
   "cell_type": "markdown",
   "id": "4efe4471",
   "metadata": {},
   "source": [
    "## 1.2 Comando *while*\n",
    "\n",
    "O comando while repete a execução de um bloco de comandos enquanto uma condição for verdadeira (**True**). \n",
    "\n",
    "Sua **forma geral** é apresentada a seguir:"
   ]
  },
  {
   "cell_type": "code",
   "execution_count": null,
   "id": "6622911e",
   "metadata": {},
   "outputs": [],
   "source": [
    "while <condição>:\n",
    "    bloco de comandos"
   ]
  },
  {
   "cell_type": "markdown",
   "id": "a42ea48b",
   "metadata": {},
   "source": [
    "A figura abaixo apresenta um fluxograma representando o funcionamento do comando while:\n",
    "\n",
    "<img width=\"50%\" src=\"imagens/while.png\">\n",
    "\n",
    "Na execução do comando while, se a condição é avaliada for:\n",
    "\n",
    "* **True**: a sequência de comandos será executada. Ao final da sequência de comandos, o fluxo do programa é desviado novamente para o teste da condição.\n",
    "\n",
    "* **False**: a sequência de comandos não será executada e o programa continuará a partir do primeiro comando seguinte ao final do comando while.\n",
    "\n",
    "\n"
   ]
  },
  {
   "cell_type": "markdown",
   "id": "8e96075c",
   "metadata": {},
   "source": [
    "**Problema**: Elabore um programa que exiba em tela os números inteiros de 1 a 1000."
   ]
  },
  {
   "cell_type": "code",
   "execution_count": null,
   "id": "8a7d51d3",
   "metadata": {
    "scrolled": true
   },
   "outputs": [],
   "source": [
    "x = 1\n",
    "while x <= 100:\n",
    "    print(x)\n",
    "    x = x + 1"
   ]
  },
  {
   "cell_type": "markdown",
   "id": "3c00d56e",
   "metadata": {},
   "source": [
    "## 1.3 Contadores\n",
    "\n"
   ]
  },
  {
   "cell_type": "markdown",
   "id": "5fdd3846",
   "metadata": {},
   "source": [
    "Um **contador** é uma variável utilizada para contar o número de ocorrências dentro de um evento. Podemos utilizá-los para contar o número de repetições do bloco de comando dentro do while.\n",
    "\n",
    "Em um contador, os <mark>valores adicionados são **constantes**</mark>.\n",
    "\n",
    "**Problema:** Elabore um programa para imprimir os números inteiros entre 1 e um valor digitado pelo usuário.\n"
   ]
  },
  {
   "cell_type": "code",
   "execution_count": null,
   "id": "02dcc438",
   "metadata": {},
   "outputs": [],
   "source": [
    "fim = int(input(\"Digite o último valor a exibir em tela: \"))\n",
    "x = 1\n",
    "while x <= fim:\n",
    "    print(x)\n",
    "    x = x + 1"
   ]
  },
  {
   "cell_type": "markdown",
   "id": "d3884948",
   "metadata": {},
   "source": [
    "\n",
    "**Problema:** Desenvolva um programa para exibir em tela os números pares entre 0 e um número digitado pelo usuário.\n",
    "\n"
   ]
  },
  {
   "cell_type": "code",
   "execution_count": null,
   "id": "47360dfb",
   "metadata": {},
   "outputs": [],
   "source": [
    "# Resolução 1\n",
    "fim = int(input(\"Digite o último valor a exibir em tela: \"))\n",
    "x = 0\n",
    "while x <= fim:\n",
    "    if x % 2 == 0: \n",
    "        print(x)\n",
    "    x = x + 1"
   ]
  },
  {
   "cell_type": "code",
   "execution_count": null,
   "id": "5f536d8f",
   "metadata": {
    "scrolled": false
   },
   "outputs": [],
   "source": [
    "# Resolução 2: Outra forma de resolver o mesmo problema, porém de forma mais eficiente\n",
    "fim = int(input(\"Digite o último valor a exibir em tela: \"))\n",
    "x = 0\n",
    "while x <= fim:\n",
    "    print(x)\n",
    "    x = x + 2"
   ]
  },
  {
   "cell_type": "markdown",
   "id": "a240688d",
   "metadata": {},
   "source": [
    "## 1.4 Acumuladores"
   ]
  },
  {
   "cell_type": "markdown",
   "id": "9110ce72",
   "metadata": {},
   "source": [
    "Um **acumulador** é uma variável utilizada para armazenar de <mark>forma cumulativa</mark> durante a execução de um programa.\n",
    "\n",
    "Em um acumulador, os <mark>valores adicionados **NÃO** são constantes</mark>.\n",
    "\n",
    "**Problema:** Elabore um programa que leia 10 números do usuário e calcule a soma."
   ]
  },
  {
   "cell_type": "code",
   "execution_count": null,
   "id": "7088be59",
   "metadata": {
    "scrolled": true
   },
   "outputs": [],
   "source": [
    "n = 1\n",
    "soma = 0\n",
    "while n <= 10:\n",
    "    x = int(input(f\"Digite o {n} número: \"))\n",
    "    soma = soma + x\n",
    "    n = n + 1\n",
    "print(soma)"
   ]
  },
  {
   "cell_type": "markdown",
   "id": "e285b708",
   "metadata": {},
   "source": [
    "## 1.5 Interrompendo a repetição"
   ]
  },
  {
   "cell_type": "markdown",
   "id": "b8c0b3d7",
   "metadata": {},
   "source": [
    "### 1.5.1 Comando break\n",
    "\n",
    "\n",
    "O comando **break** é utilizado para interromper um lanço de execução, independentemente do valor atual de sua condição.\n",
    "\n",
    "**Problema:** Elabore um programa que leia números inteiros até que o usuário digite zero. Ao fim deve ser exibido em tela a soma dos valores."
   ]
  },
  {
   "cell_type": "code",
   "execution_count": null,
   "id": "f7a9fcd8",
   "metadata": {
    "scrolled": true
   },
   "outputs": [],
   "source": [
    "s = 0\n",
    "while True:\n",
    "    v = int(input(\"Digite um número a somar ou zero para sair: \"))\n",
    "    if v == 0:\n",
    "        break\n",
    "    s += v\n",
    "print(s)"
   ]
  },
  {
   "cell_type": "markdown",
   "id": "cca01df9",
   "metadata": {},
   "source": [
    "### 1.5.2 Comando continue\n",
    "\n",
    "A comando **continue** permite interromper a iteração atual do loop e retornar ao teste de condição, sendo possível continuar a execução do loop com outras iterações.\n",
    "\n",
    "**Problema:** Elabore um programa que exiba em tela os números ímpares de 1 a 50."
   ]
  },
  {
   "cell_type": "code",
   "execution_count": null,
   "id": "a624d05c",
   "metadata": {},
   "outputs": [],
   "source": [
    "x = 0\n",
    "while x < 50:\n",
    "    x+=1\n",
    "    if x % 2 == 0:\n",
    "        continue\n",
    "    print(x)"
   ]
  },
  {
   "cell_type": "markdown",
   "id": "81b7e51e",
   "metadata": {},
   "source": [
    "## 1.6 Repetições aninhadas"
   ]
  },
  {
   "cell_type": "markdown",
   "id": "1613ff30",
   "metadata": {},
   "source": [
    "Na linguagem Python pode-se combinar vários **while** em um aninhamento de comandos de repetição.\n",
    "\n",
    "**Problema:** Elabore um programa que exiba em tela as tabuadas de 1 a 10."
   ]
  },
  {
   "cell_type": "code",
   "execution_count": null,
   "id": "276f8c20",
   "metadata": {},
   "outputs": [],
   "source": [
    "tabuada = 1\n",
    "while tabuada <= 10:\n",
    "    número = 1\n",
    "    while número <= 10:\n",
    "        print(f\"{tabuada} x {número} = {tabuada * número}\")\n",
    "        número += 1\n",
    "    tabuada += 1\n",
    "    print(\"\\n\")"
   ]
  },
  {
   "cell_type": "markdown",
   "id": "a4e8feff",
   "metadata": {},
   "source": [
    "## 1.7 Função *range( )*"
   ]
  },
  {
   "cell_type": "markdown",
   "id": "aac9bb86",
   "metadata": {},
   "source": [
    "A função **range()** retorna um conjunto de números sequenciais conforme os parâmetros definidos ao utilizarmos um comando. \n",
    "\n",
    "Por padrão, o intervalo gerado por ela começa pelo número zero e é incrementado um a um até atingir o ponto de parada.\n",
    "\n",
    "A **sintaxe geral** da função range é:"
   ]
  },
  {
   "cell_type": "code",
   "execution_count": null,
   "id": "73df7ff4",
   "metadata": {},
   "outputs": [],
   "source": [
    "range(<início>, <parada>, <passo>)"
   ]
  },
  {
   "cell_type": "markdown",
   "id": "4558dfbf",
   "metadata": {},
   "source": [
    "<br>\n",
    "\n",
    "O retorno da **função range( )** consiste de uma sequência do **tipo range**, sendo que não inclui o parâmetro de parada. Seguem alguns exemplos:\n",
    "\n",
    "**Exemplo:** Uma sequência que inicia em 0 e termina em 9."
   ]
  },
  {
   "cell_type": "code",
   "execution_count": 4,
   "id": "b7809ce1",
   "metadata": {
    "scrolled": false
   },
   "outputs": [
    {
     "data": {
      "text/plain": [
       "range(0, 10)"
      ]
     },
     "execution_count": 4,
     "metadata": {},
     "output_type": "execute_result"
    }
   ],
   "source": [
    "range(10)"
   ]
  },
  {
   "cell_type": "markdown",
   "id": "59249863",
   "metadata": {},
   "source": [
    "<br>\n",
    "\n",
    "Para **listar os elementos numéricos** retornados pela função range( ), podemos converter esta sequência numa lista, utilizando-se a função **list( )**.\n",
    "<br>\n"
   ]
  },
  {
   "cell_type": "code",
   "execution_count": 6,
   "id": "07bfe2af",
   "metadata": {
    "scrolled": true
   },
   "outputs": [
    {
     "data": {
      "text/plain": [
       "[0, 1, 2, 3, 4, 5, 6, 7, 8, 9]"
      ]
     },
     "execution_count": 6,
     "metadata": {},
     "output_type": "execute_result"
    }
   ],
   "source": [
    "list(range(10))"
   ]
  },
  {
   "cell_type": "markdown",
   "id": "500dc2b3",
   "metadata": {},
   "source": [
    "<br>\n",
    "\n",
    "**Exemplo:** Uma sequência que inicia em 10, termina em 20 e com passo igual a 2."
   ]
  },
  {
   "cell_type": "code",
   "execution_count": 10,
   "id": "aa29107c",
   "metadata": {},
   "outputs": [
    {
     "data": {
      "text/plain": [
       "[10, 12, 14, 16, 18]"
      ]
     },
     "execution_count": 10,
     "metadata": {},
     "output_type": "execute_result"
    }
   ],
   "source": [
    "list(range(10,20,2))"
   ]
  },
  {
   "cell_type": "markdown",
   "id": "ab124fce",
   "metadata": {},
   "source": [
    "<br>\n",
    "\n",
    "**Exemplo:** Uma sequência que inicia em 15, termina em 0 e com passo igual a -2."
   ]
  },
  {
   "cell_type": "code",
   "execution_count": 17,
   "id": "682e2799",
   "metadata": {},
   "outputs": [
    {
     "data": {
      "text/plain": [
       "[15, 13, 11, 9, 7, 5, 3, 1]"
      ]
     },
     "execution_count": 17,
     "metadata": {},
     "output_type": "execute_result"
    }
   ],
   "source": [
    "list(range(15, 0, -2))"
   ]
  },
  {
   "cell_type": "markdown",
   "id": "b62a69cd",
   "metadata": {},
   "source": [
    "<br>\n",
    "\n",
    "**Exemplo:** Uma sequência que inicia em 10, termina em -10 e com passo igual a -3."
   ]
  },
  {
   "cell_type": "code",
   "execution_count": 18,
   "id": "a4b8976e",
   "metadata": {},
   "outputs": [
    {
     "data": {
      "text/plain": [
       "[10, 7, 4, 1, -2, -5, -8]"
      ]
     },
     "execution_count": 18,
     "metadata": {},
     "output_type": "execute_result"
    }
   ],
   "source": [
    "list(range(10, -10, -3))"
   ]
  },
  {
   "cell_type": "markdown",
   "id": "90b26470",
   "metadata": {},
   "source": [
    "## 1.8 Comando *for*"
   ]
  },
  {
   "cell_type": "markdown",
   "id": "b7c9dc67",
   "metadata": {},
   "source": [
    "O comando *for* repete a execução de um bloco de comandos enquanto uma condição for verdadeira (True). Para usar o comando *for* precisa-se de uma variável especial que é definida como o **iterador ou contador da repetição**. \n",
    "\n",
    "Sua forma geral é apresentada a seguir:"
   ]
  },
  {
   "cell_type": "code",
   "execution_count": null,
   "id": "66b27fce",
   "metadata": {},
   "outputs": [],
   "source": [
    "for <variável de iteração> in <campo de iteração>:\n",
    "    bloco de comandos"
   ]
  },
  {
   "cell_type": "markdown",
   "id": "d697f2aa",
   "metadata": {},
   "source": [
    "A figura abaixo apresenta um fluxograma representando o funcionamento do comando while:"
   ]
  },
  {
   "cell_type": "markdown",
   "id": "d92f2220",
   "metadata": {},
   "source": [
    "<img width=\"50%\" src=\"imagens/for.png\">"
   ]
  },
  {
   "cell_type": "markdown",
   "id": "e56749b6",
   "metadata": {},
   "source": [
    "O comando *for* é muito parecido com o comando while, porém utiliza um **iterador** e um **campo de iteração** para realizar o controle das repetições."
   ]
  },
  {
   "cell_type": "markdown",
   "id": "792f9ad7",
   "metadata": {},
   "source": [
    "<br>\n",
    "\n",
    "**Problema:** Elabore um programa que exiba em tela cinquenta vezes o texto \"estudar é bom\". "
   ]
  },
  {
   "cell_type": "code",
   "execution_count": 19,
   "id": "ed7e6243",
   "metadata": {},
   "outputs": [
    {
     "name": "stdout",
     "output_type": "stream",
     "text": [
      "estudar é bom\n",
      "estudar é bom\n",
      "estudar é bom\n",
      "estudar é bom\n",
      "estudar é bom\n",
      "estudar é bom\n",
      "estudar é bom\n",
      "estudar é bom\n",
      "estudar é bom\n",
      "estudar é bom\n",
      "estudar é bom\n",
      "estudar é bom\n",
      "estudar é bom\n",
      "estudar é bom\n",
      "estudar é bom\n",
      "estudar é bom\n",
      "estudar é bom\n",
      "estudar é bom\n",
      "estudar é bom\n",
      "estudar é bom\n",
      "estudar é bom\n",
      "estudar é bom\n",
      "estudar é bom\n",
      "estudar é bom\n",
      "estudar é bom\n",
      "estudar é bom\n",
      "estudar é bom\n",
      "estudar é bom\n",
      "estudar é bom\n",
      "estudar é bom\n",
      "estudar é bom\n",
      "estudar é bom\n",
      "estudar é bom\n",
      "estudar é bom\n",
      "estudar é bom\n",
      "estudar é bom\n",
      "estudar é bom\n",
      "estudar é bom\n",
      "estudar é bom\n",
      "estudar é bom\n",
      "estudar é bom\n",
      "estudar é bom\n",
      "estudar é bom\n",
      "estudar é bom\n",
      "estudar é bom\n",
      "estudar é bom\n",
      "estudar é bom\n",
      "estudar é bom\n",
      "estudar é bom\n",
      "estudar é bom\n"
     ]
    }
   ],
   "source": [
    "for i in range(50):\n",
    "    print(\"estudar é bom\")"
   ]
  },
  {
   "cell_type": "markdown",
   "id": "3024dfad",
   "metadata": {},
   "source": [
    "<br>\n",
    "\n",
    "**Problema:** Elabore um programa que exiba em tela uma contagem regressiva para o lançamento de um foguete, começando em 10. "
   ]
  },
  {
   "cell_type": "code",
   "execution_count": 21,
   "id": "81a9a910",
   "metadata": {},
   "outputs": [
    {
     "name": "stdout",
     "output_type": "stream",
     "text": [
      "10\n",
      "9\n",
      "8\n",
      "7\n",
      "6\n",
      "5\n",
      "4\n",
      "3\n",
      "2\n",
      "1\n",
      "Lançamento!!!\n"
     ]
    }
   ],
   "source": [
    "for i in range(10,0,-1):\n",
    "    print(i)\n",
    "print(\"Lançamento!!!\")"
   ]
  }
 ],
 "metadata": {
  "kernelspec": {
   "display_name": "Python 3 (ipykernel)",
   "language": "python",
   "name": "python3"
  },
  "language_info": {
   "codemirror_mode": {
    "name": "ipython",
    "version": 3
   },
   "file_extension": ".py",
   "mimetype": "text/x-python",
   "name": "python",
   "nbconvert_exporter": "python",
   "pygments_lexer": "ipython3",
   "version": "3.9.7"
  }
 },
 "nbformat": 4,
 "nbformat_minor": 5
}
