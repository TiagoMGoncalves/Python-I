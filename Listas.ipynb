{
 "cells": [
  {
   "cell_type": "markdown",
   "id": "3d565036",
   "metadata": {
    "id": "3d565036"
   },
   "source": [
    "# 1. Coleções\n",
    "Coleção é uma estrutura que permite armazenar múltiplos itens ou objetos, que funciona como um container.\n",
    "\n",
    "O Python possibilita o uso das seguintes coleções:\n",
    "* Listas\n",
    "* Dicionários\n",
    "* Tuplas\n",
    "* Conjuntos\n",
    "\n",
    "## 1.1 Listas\n",
    "Uma **lista** uma estrutura de dados indexados e armazenados em sequência, onde cada elemento possui uma posição que é identificada por um índice. \n",
    "\n",
    "Veja na figura a seguir um esquema gráfico de uma lista contendo valores numéricos:\n",
    "\n",
    "<img width=50% align=center src=\"imagens/vetor01.png\">\n",
    "     \n",
    "Podemos criar listas e atribuir seus elementos utilizando-se colchetes:"
   ]
  },
  {
   "cell_type": "code",
   "execution_count": 1,
   "id": "12090187",
   "metadata": {
    "id": "12090187",
    "scrolled": false
   },
   "outputs": [],
   "source": [
    "#Criando uma lista numérica\n",
    "L = [12, 6, 10, 15, 0, 10]\n",
    "\n",
    "#Criando uma lista de nomes\n",
    "programadores = ['Victor', 'Juliana', 'Samuel', 'Caio', 'Luana']\n",
    "\n",
    "#Criando uma lista vazia\n",
    "vazia = []\n",
    "\n",
    "#Criando uma lista com tipos de dados diferentes\n",
    "D = [1, 2, 'a', 'João', 84]"
   ]
  },
  {
   "cell_type": "markdown",
   "id": "2274d796",
   "metadata": {
    "id": "2274d796"
   },
   "source": [
    "O acesso aos elementos de uma lista podem ser realizados usando colchetes e índices. O primeiro elemento é **indexado em 0 (zero)**, o segundo em 1 (um) e assim sucessivamente.\n",
    "\n",
    "O acesso também pode ser realizado de trás pra frente colocando-se um sinal negativo antes do índice. No entanto, neste último caso a indexação começa em **-1 (menos um)**:\n",
    "\n",
    "<img width=50% align=center src=\"imagens/vetor02.png\">\n",
    "\n",
    "Veja alguns exemplos de acesso aos elementos  dos vetores criados anteriormente:"
   ]
  },
  {
   "cell_type": "code",
   "execution_count": 2,
   "id": "abbd827e",
   "metadata": {
    "id": "abbd827e",
    "outputId": "a512cba4-0a19-4b7c-fb55-460f57cc32cc"
   },
   "outputs": [
    {
     "name": "stdout",
     "output_type": "stream",
     "text": [
      "[12, 6, 10, 15, 0, 10]\n"
     ]
    }
   ],
   "source": [
    "#Exibindo lista L em tela\n",
    "print(L)"
   ]
  },
  {
   "cell_type": "code",
   "execution_count": 3,
   "id": "27e11e25",
   "metadata": {},
   "outputs": [
    {
     "name": "stdout",
     "output_type": "stream",
     "text": [
      "12\n"
     ]
    }
   ],
   "source": [
    "#Exibindo em tela o valor do elemento 0\n",
    "print(L[0])"
   ]
  },
  {
   "cell_type": "code",
   "execution_count": 4,
   "id": "6a926116",
   "metadata": {},
   "outputs": [
    {
     "name": "stdout",
     "output_type": "stream",
     "text": [
      "15\n"
     ]
    }
   ],
   "source": [
    "#Exibindo em tela o valor do elemento 2\n",
    "print(L[3])"
   ]
  },
  {
   "cell_type": "code",
   "execution_count": 5,
   "id": "680676ec",
   "metadata": {},
   "outputs": [
    {
     "name": "stdout",
     "output_type": "stream",
     "text": [
      "10\n"
     ]
    }
   ],
   "source": [
    "#Exibindo em tela o valor do elemento -1 (de trás pra frente)\n",
    "print(L[-1])"
   ]
  },
  {
   "cell_type": "code",
   "execution_count": 6,
   "id": "2de65434",
   "metadata": {},
   "outputs": [
    {
     "name": "stdout",
     "output_type": "stream",
     "text": [
      "0\n"
     ]
    }
   ],
   "source": [
    "#Exibindo em tela o valor do elemento -3 (de trás pra frente)\n",
    "print(L[-2])"
   ]
  },
  {
   "cell_type": "code",
   "execution_count": 7,
   "id": "d2f8d5af",
   "metadata": {},
   "outputs": [
    {
     "name": "stdout",
     "output_type": "stream",
     "text": [
      "['Victor', 'Juliana', 'Samuel', 'Caio', 'Luana']\n"
     ]
    }
   ],
   "source": [
    "#Exibindo em tela o vetor programadores\n",
    "print(programadores)"
   ]
  },
  {
   "cell_type": "code",
   "execution_count": 8,
   "id": "c5735f07",
   "metadata": {},
   "outputs": [
    {
     "name": "stdout",
     "output_type": "stream",
     "text": [
      "Samuel\n"
     ]
    }
   ],
   "source": [
    "#Exibindo em tela o valor do elemento 3\n",
    "print(programadores[2])"
   ]
  },
  {
   "cell_type": "code",
   "execution_count": 9,
   "id": "da242f0c",
   "metadata": {},
   "outputs": [
    {
     "name": "stdout",
     "output_type": "stream",
     "text": [
      "[]\n"
     ]
    }
   ],
   "source": [
    "#Exibindo lista vazia em tela\n",
    "print(vazia)"
   ]
  },
  {
   "cell_type": "markdown",
   "id": "f3297034",
   "metadata": {
    "id": "f3297034"
   },
   "source": [
    "<br>\n",
    "\n",
    "**Problema**: Elabore um programa que calcule a média aritmética de um aluno, considerando uma lista com 5 notas."
   ]
  },
  {
   "cell_type": "code",
   "execution_count": 10,
   "id": "9d57709c",
   "metadata": {
    "id": "9d57709c",
    "outputId": "da99b8b9-47ed-4c68-b66d-ff0970ae0ea5"
   },
   "outputs": [
    {
     "name": "stdout",
     "output_type": "stream",
     "text": [
      "Média igual a 8.0\n"
     ]
    }
   ],
   "source": [
    "notas = [6, 7, 8, 9, 10]\n",
    "soma = 0\n",
    "x = 0\n",
    "while x < 5:\n",
    "    soma = soma + notas[x]\n",
    "    x = x + 1\n",
    "print(f\"Média igual a {soma/5}\")"
   ]
  },
  {
   "cell_type": "markdown",
   "id": "43c11937",
   "metadata": {
    "id": "43c11937"
   },
   "source": [
    "<br>\n",
    "\n",
    "**Problema**: Elabore um programa que **leia do usuário** as 5 notas de um aluno e exiba-as em tela juntamente com a média aritmética.\n"
   ]
  },
  {
   "cell_type": "code",
   "execution_count": 11,
   "id": "7d01d281",
   "metadata": {
    "colab": {
     "base_uri": "https://localhost:8080/"
    },
    "executionInfo": {
     "elapsed": 7246,
     "status": "ok",
     "timestamp": 1655684153403,
     "user": {
      "displayName": "Tiago Gonçalves",
      "userId": "08595835171059163628"
     },
     "user_tz": 180
    },
    "id": "7d01d281",
    "outputId": "d96a5481-a90c-4206-ab63-c07951253848"
   },
   "outputs": [
    {
     "name": "stdout",
     "output_type": "stream",
     "text": [
      "Digite a nota 0: 8\n",
      "Digite a nota 1: 7\n",
      "Digite a nota 2: 9\n",
      "Digite a nota 3: 5\n",
      "Digite a nota 4: 8\n",
      "Nota 1 = 8.0\n",
      "Nota 2 = 7.0\n",
      "Nota 3 = 9.0\n",
      "Nota 4 = 5.0\n",
      "Nota 5 = 8.0\n",
      "Média igual a 7.4\n"
     ]
    }
   ],
   "source": [
    "notas = [0, 0, 0, 0, 0]\n",
    "soma = 0\n",
    "x = 0\n",
    "while x < 5:\n",
    "    notas[x] = float(input(f\"Digite a nota {x}: \"))\n",
    "    soma += notas[x]\n",
    "    x = x + 1\n",
    "\n",
    "x = 0\n",
    "while x < 5:\n",
    "    print(f\"Nota {x+1} = {notas[x]}\")\n",
    "    x += 1\n",
    "print(f\"Média igual a {soma/5}\")"
   ]
  },
  {
   "cell_type": "markdown",
   "id": "5ca1238a",
   "metadata": {},
   "source": [
    "<br>\n",
    "\n",
    "### 1.1.1 Fatiamento de listas"
   ]
  },
  {
   "cell_type": "markdown",
   "id": "6e3e55b4",
   "metadata": {},
   "source": [
    "Fatiamento significa **extrair apenas uma parte** (subconjunto)."
   ]
  },
  {
   "cell_type": "code",
   "execution_count": 12,
   "id": "b19258b0",
   "metadata": {},
   "outputs": [
    {
     "data": {
      "text/plain": [
       "[1, 2, 3, 4, 5]"
      ]
     },
     "execution_count": 12,
     "metadata": {},
     "output_type": "execute_result"
    }
   ],
   "source": [
    "#Criando uma lista\n",
    "L = [1, 2, 3, 4, 5]\n",
    "\n",
    "#Exibe a lista os elementos de 0 a 4 (intervalo fechado no final)\n",
    "L[0:5]"
   ]
  },
  {
   "cell_type": "code",
   "execution_count": 13,
   "id": "96e3a7c1",
   "metadata": {},
   "outputs": [
    {
     "data": {
      "text/plain": [
       "[1, 2, 3, 4, 5]"
      ]
     },
     "execution_count": 13,
     "metadata": {},
     "output_type": "execute_result"
    }
   ],
   "source": [
    "#Exibe os elementos da lista até o quarto (intervalo fechado no final)\n",
    "L[:5]"
   ]
  },
  {
   "cell_type": "code",
   "execution_count": 14,
   "id": "ab26cc6e",
   "metadata": {},
   "outputs": [
    {
     "data": {
      "text/plain": [
       "[1, 2, 3, 4, 5]"
      ]
     },
     "execution_count": 14,
     "metadata": {},
     "output_type": "execute_result"
    }
   ],
   "source": [
    "#Exibe toda a lista\n",
    "L[:]"
   ]
  },
  {
   "cell_type": "code",
   "execution_count": 15,
   "id": "23a34b44",
   "metadata": {},
   "outputs": [
    {
     "data": {
      "text/plain": [
       "[1, 2, 3, 4]"
      ]
     },
     "execution_count": 15,
     "metadata": {},
     "output_type": "execute_result"
    }
   ],
   "source": [
    "#Exibe até o elemento 4\n",
    "L[:4]"
   ]
  },
  {
   "cell_type": "code",
   "execution_count": 16,
   "id": "04a73ee0",
   "metadata": {},
   "outputs": [
    {
     "data": {
      "text/plain": [
       "[1, 2, 3, 4]"
      ]
     },
     "execution_count": 16,
     "metadata": {},
     "output_type": "execute_result"
    }
   ],
   "source": [
    "#Inicia do fim da lista, com intervalo fechado no final\n",
    "L[:-1]"
   ]
  },
  {
   "cell_type": "code",
   "execution_count": 17,
   "id": "fe514669",
   "metadata": {},
   "outputs": [
    {
     "data": {
      "text/plain": [
       "[2, 3]"
      ]
     },
     "execution_count": 17,
     "metadata": {},
     "output_type": "execute_result"
    }
   ],
   "source": [
    "#Exibe os elementos de 1 a 3 (o terceiro elemento não entra)\n",
    "L[1:3]"
   ]
  },
  {
   "cell_type": "markdown",
   "id": "75521c39",
   "metadata": {},
   "source": [
    "<br>\n",
    "\n",
    "### 1.1.2 Listas dentro de listas"
   ]
  },
  {
   "cell_type": "markdown",
   "id": "807217ad",
   "metadata": {},
   "source": [
    "As listas podem conter outras coleções dentro delas próprias, inclusive outras listas."
   ]
  },
  {
   "cell_type": "code",
   "execution_count": 18,
   "id": "c9c96442",
   "metadata": {},
   "outputs": [
    {
     "name": "stdout",
     "output_type": "stream",
     "text": [
      "[10, 20, ['a', 'b'], [2, 3]]\n"
     ]
    }
   ],
   "source": [
    "#Criando uma lista de strings\n",
    "L1 = ['a', 'b']\n",
    "\n",
    "#Criando uma lista numérica\n",
    "L2 = [2, 3]\n",
    "\n",
    "#Listas dentro de listas\n",
    "L = [10, 20, L1, L2]\n",
    "print(L)"
   ]
  },
  {
   "cell_type": "code",
   "execution_count": 19,
   "id": "a2ef4848",
   "metadata": {},
   "outputs": [
    {
     "data": {
      "text/plain": [
       "['a', 'b']"
      ]
     },
     "execution_count": 19,
     "metadata": {},
     "output_type": "execute_result"
    }
   ],
   "source": [
    "#Acessando L[2]\n",
    "L[2]"
   ]
  },
  {
   "cell_type": "code",
   "execution_count": 20,
   "id": "6630aa61",
   "metadata": {},
   "outputs": [
    {
     "data": {
      "text/plain": [
       "'b'"
      ]
     },
     "execution_count": 20,
     "metadata": {},
     "output_type": "execute_result"
    }
   ],
   "source": [
    "#Acessando l[2][1]\n",
    "L[2][1]"
   ]
  },
  {
   "cell_type": "code",
   "execution_count": 21,
   "id": "03323eca",
   "metadata": {},
   "outputs": [
    {
     "data": {
      "text/plain": [
       "[[1, 2, 3], [4, 5, 6], [7, 8, 9]]"
      ]
     },
     "execution_count": 21,
     "metadata": {},
     "output_type": "execute_result"
    }
   ],
   "source": [
    "#Criando uma matriz\n",
    "L = [[1, 2, 3], [4, 5, 6], [7, 8, 9]]\n",
    "\n",
    "#Criação da mesma matriz, mas de forma mais legível\n",
    "L = [[1, 2, 3],\n",
    "     [4, 5, 6],\n",
    "     [7, 8, 9]]\n",
    "L"
   ]
  },
  {
   "cell_type": "code",
   "execution_count": 22,
   "id": "c4fa060a",
   "metadata": {
    "scrolled": true
   },
   "outputs": [
    {
     "data": {
      "text/plain": [
       "3"
      ]
     },
     "execution_count": 22,
     "metadata": {},
     "output_type": "execute_result"
    }
   ],
   "source": [
    "L[0][2]"
   ]
  },
  {
   "cell_type": "code",
   "execution_count": 23,
   "id": "6cc43538",
   "metadata": {},
   "outputs": [
    {
     "data": {
      "text/plain": [
       "4"
      ]
     },
     "execution_count": 23,
     "metadata": {},
     "output_type": "execute_result"
    }
   ],
   "source": [
    "L[1][0]"
   ]
  },
  {
   "cell_type": "markdown",
   "id": "d989cef0",
   "metadata": {
    "id": "d989cef0"
   },
   "source": [
    "<br>\n",
    "\n",
    "### 1.1.3 Cópia de Listas"
   ]
  },
  {
   "cell_type": "markdown",
   "id": "27a15354",
   "metadata": {
    "id": "27a15354"
   },
   "source": [
    "Para realizar a cópia de uma lista, utiliza-se o **método copy( )**:\n"
   ]
  },
  {
   "cell_type": "code",
   "execution_count": 24,
   "id": "adc026f7",
   "metadata": {
    "scrolled": true
   },
   "outputs": [
    {
     "name": "stdout",
     "output_type": "stream",
     "text": [
      "[999, 6, 10, 15, 0]\n",
      "[12, 6, 10, 15, 0]\n"
     ]
    }
   ],
   "source": [
    "#Criando uma lista com 4 elementos\n",
    "Lista = [12, 6, 10, 15, 0]\n",
    "\n",
    "#Realizando uma cópia de Lista\n",
    "Cópia = Lista.copy()\n",
    "\n",
    "#Alterando a posição 0 de Lista\n",
    "Lista[0] = 999\n",
    "\n",
    "#Exibindo Lista\n",
    "print(Lista)\n",
    "\n",
    "#Exibindo Cópia\n",
    "print(Cópia)"
   ]
  },
  {
   "cell_type": "markdown",
   "id": "b50fde61",
   "metadata": {},
   "source": [
    "Uma alternativa ao método copy() é utilizar **dois pontos** entre colchetes:"
   ]
  },
  {
   "cell_type": "code",
   "execution_count": 25,
   "id": "22a24cf6",
   "metadata": {},
   "outputs": [
    {
     "name": "stdout",
     "output_type": "stream",
     "text": [
      "[999, 6, 10, 15, 0]\n",
      "[12, 6, 10, 15, 0]\n"
     ]
    }
   ],
   "source": [
    "#Criando uma lista com 4 elementos\n",
    "Lista = [12, 6, 10, 15, 0]\n",
    "\n",
    "#Utilizando a notação : para realizar uma cópia de Lista\n",
    "Cópia = Lista[:]\n",
    "\n",
    "#Alterando a posição 0 de Lista\n",
    "Lista[0] = 999\n",
    "\n",
    "#Exibindo Lista\n",
    "print(Lista)\n",
    "\n",
    "#Exibindo Cópia\n",
    "print(Cópia)"
   ]
  },
  {
   "cell_type": "markdown",
   "id": "ad293f8c",
   "metadata": {},
   "source": [
    "<br>\n",
    "\n",
    "O programador deve ter cuidado com a manipulação de **referências de memória**. \n",
    "\n",
    "Observe o exemplo a seguir:"
   ]
  },
  {
   "cell_type": "code",
   "execution_count": 26,
   "id": "3882a820",
   "metadata": {},
   "outputs": [
    {
     "name": "stdout",
     "output_type": "stream",
     "text": [
      "[999, 6, 10, 15, 0]\n",
      "[999, 6, 10, 15, 0]\n"
     ]
    }
   ],
   "source": [
    "#Criando uma lista com 4 elementos\n",
    "Lista = [12, 6, 10, 15, 0]\n",
    "\n",
    "#Realizando uma cópia do ponteiro de Lista\n",
    "Cópia = Lista\n",
    "\n",
    "#Alterando a posição 0 de Lista\n",
    "Lista[0] = 999\n",
    "\n",
    "#Exibindo Lista\n",
    "print(Lista)\n",
    "\n",
    "#Exibindo Cópia\n",
    "print(Cópia)"
   ]
  },
  {
   "cell_type": "markdown",
   "id": "9662aa82",
   "metadata": {},
   "source": [
    "Note que ao alterarmos o conteúdo de Lista, modificamos também o conteúdo de Cópia.Isso ocorre porque estamos **copiando a referência (ponteiro)** para a mesma lista, e não os dados em si. \n",
    "\n",
    "Assim, Lista e Cópia são dois \"apelidos\" para a mesma área na memória.\n",
    "\n",
    "<img width=40% src=\"imagens/cópia.png\">"
   ]
  },
  {
   "cell_type": "markdown",
   "id": "2a29e189",
   "metadata": {},
   "source": [
    "<br>\n",
    "\n",
    "### 1.1.4 Tamanho de listas"
   ]
  },
  {
   "cell_type": "markdown",
   "id": "a7efcf76",
   "metadata": {},
   "source": [
    "Pode-se utilizar a **função len()** para retornar o número de elementos em uma lista."
   ]
  },
  {
   "cell_type": "code",
   "execution_count": 27,
   "id": "c27474e8",
   "metadata": {},
   "outputs": [
    {
     "data": {
      "text/plain": [
       "3"
      ]
     },
     "execution_count": 27,
     "metadata": {},
     "output_type": "execute_result"
    }
   ],
   "source": [
    "#Criação de uma lista\n",
    "L = [2, 4, 6]\n",
    "\n",
    "#Uso da função len() para retornar o número de elementos da lista\n",
    "len(L)"
   ]
  },
  {
   "cell_type": "code",
   "execution_count": 28,
   "id": "c8a88fa5",
   "metadata": {},
   "outputs": [
    {
     "data": {
      "text/plain": [
       "0"
      ]
     },
     "execution_count": 28,
     "metadata": {},
     "output_type": "execute_result"
    }
   ],
   "source": [
    "#Criação de uma lista vazia\n",
    "V = []\n",
    "\n",
    "#uso da função len() em uma lista vazia\n",
    "len(V)"
   ]
  },
  {
   "cell_type": "markdown",
   "id": "f7c82ae7",
   "metadata": {},
   "source": [
    "<br>\n",
    "\n",
    "A **função len()** pode ser utilizada para controlar **estruturas de repetição**:"
   ]
  },
  {
   "cell_type": "code",
   "execution_count": 29,
   "id": "04110762",
   "metadata": {},
   "outputs": [
    {
     "name": "stdout",
     "output_type": "stream",
     "text": [
      "2\n",
      "4\n",
      "6\n"
     ]
    }
   ],
   "source": [
    "L = [2, 4, 6]\n",
    "i = 0\n",
    "while i < len(L):\n",
    "    print(L[i])\n",
    "    i+= 1"
   ]
  },
  {
   "cell_type": "markdown",
   "id": "489c0bb7",
   "metadata": {},
   "source": [
    "<br>\n",
    "\n",
    "### 1.1.5 Adição de elementos em listas"
   ]
  },
  {
   "cell_type": "markdown",
   "id": "44bae447",
   "metadata": {},
   "source": [
    "Pode-se utilizar os seguintes métodos para adicionar elementos em listas:\n",
    "* append()\n",
    "* extend()\n",
    "* insert()\n",
    "\n",
    "Além dos métodos acima, pode-se utilizar os comandos \"+\" e \"*\"."
   ]
  },
  {
   "cell_type": "markdown",
   "id": "4233a572",
   "metadata": {},
   "source": [
    "#### Método append( )\n",
    "\n",
    "O **método append()** faz a inserção de elementos ao fim da lista:"
   ]
  },
  {
   "cell_type": "code",
   "execution_count": 30,
   "id": "0e9231af",
   "metadata": {},
   "outputs": [
    {
     "data": {
      "text/plain": [
       "[1]"
      ]
     },
     "execution_count": 30,
     "metadata": {},
     "output_type": "execute_result"
    }
   ],
   "source": [
    "L = []\n",
    "L.append(1)\n",
    "L"
   ]
  },
  {
   "cell_type": "code",
   "execution_count": 31,
   "id": "1e53d58e",
   "metadata": {},
   "outputs": [
    {
     "data": {
      "text/plain": [
       "[1, 'a']"
      ]
     },
     "execution_count": 31,
     "metadata": {},
     "output_type": "execute_result"
    }
   ],
   "source": [
    "L.append('a')\n",
    "L"
   ]
  },
  {
   "cell_type": "code",
   "execution_count": 32,
   "id": "5724169c",
   "metadata": {},
   "outputs": [
    {
     "data": {
      "text/plain": [
       "[1, 'a', [2]]"
      ]
     },
     "execution_count": 32,
     "metadata": {},
     "output_type": "execute_result"
    }
   ],
   "source": [
    "L.append([2])\n",
    "L"
   ]
  },
  {
   "cell_type": "markdown",
   "id": "c95eab0c",
   "metadata": {},
   "source": [
    "<br>\n",
    "\n",
    "Se o parâmetro para o método append for **uma coleção**, ele irá inserir todos os elementos na mesma posição da lista:"
   ]
  },
  {
   "cell_type": "code",
   "execution_count": 33,
   "id": "de46ec19",
   "metadata": {},
   "outputs": [
    {
     "data": {
      "text/plain": [
       "[1, 'a', [2], [2, 3, 4]]"
      ]
     },
     "execution_count": 33,
     "metadata": {},
     "output_type": "execute_result"
    }
   ],
   "source": [
    "L.append([2, 3, 4])\n",
    "L"
   ]
  },
  {
   "cell_type": "code",
   "execution_count": 34,
   "id": "a46857d8",
   "metadata": {},
   "outputs": [
    {
     "data": {
      "text/plain": [
       "[1, 'a', [2], [2, 3, 4], ['c', 'd']]"
      ]
     },
     "execution_count": 34,
     "metadata": {},
     "output_type": "execute_result"
    }
   ],
   "source": [
    "L.append(['c', 'd'])\n",
    "L"
   ]
  },
  {
   "cell_type": "code",
   "execution_count": 35,
   "id": "145a7370",
   "metadata": {},
   "outputs": [
    {
     "data": {
      "text/plain": [
       "[2]"
      ]
     },
     "execution_count": 35,
     "metadata": {},
     "output_type": "execute_result"
    }
   ],
   "source": [
    "L[2]"
   ]
  },
  {
   "cell_type": "markdown",
   "id": "097423b0",
   "metadata": {},
   "source": [
    "<br>\n",
    "\n",
    "#### Método extend()\n",
    "\n",
    "O **método extend()** recebe **iteráveis como parâmetro** e prolonga a lista, adicionando no fim todos os elementos do argumento passado como parâmetro. \n",
    "\n",
    "Um iterável é qualquer objeto capaz de retornar seus **membros um de cada vez**, permitindo que ele seja iterado em um loop for.\n",
    "\n",
    "Cada elemento passado como parâmetro é atribuido a um índice diferente."
   ]
  },
  {
   "cell_type": "code",
   "execution_count": 36,
   "id": "e85b8cd2",
   "metadata": {},
   "outputs": [
    {
     "data": {
      "text/plain": [
       "[1]"
      ]
     },
     "execution_count": 36,
     "metadata": {},
     "output_type": "execute_result"
    }
   ],
   "source": [
    "L = []\n",
    "L.extend([1])\n",
    "L"
   ]
  },
  {
   "cell_type": "code",
   "execution_count": 37,
   "id": "5f9a9d00",
   "metadata": {},
   "outputs": [
    {
     "data": {
      "text/plain": [
       "[1, 2, 3]"
      ]
     },
     "execution_count": 37,
     "metadata": {},
     "output_type": "execute_result"
    }
   ],
   "source": [
    "L = []\n",
    "L.extend([1, 2, 3])\n",
    "L"
   ]
  },
  {
   "cell_type": "code",
   "execution_count": 38,
   "id": "cfd46dfa",
   "metadata": {},
   "outputs": [
    {
     "data": {
      "text/plain": [
       "[2, 3, 4, 5]"
      ]
     },
     "execution_count": 38,
     "metadata": {},
     "output_type": "execute_result"
    }
   ],
   "source": [
    "L = [2, 3]\n",
    "L.extend([4, 5])\n",
    "L"
   ]
  },
  {
   "cell_type": "code",
   "execution_count": 39,
   "id": "93869856",
   "metadata": {},
   "outputs": [
    {
     "data": {
      "text/plain": [
       "['Ifes', 'programação', 'D', 'a', 'd', 'o', 's']"
      ]
     },
     "execution_count": 39,
     "metadata": {},
     "output_type": "execute_result"
    }
   ],
   "source": [
    "L = ['Ifes', 'programação']\n",
    "\n",
    "#Strings também são iteráveis\n",
    "L.extend(\"Dados\")\n",
    "L"
   ]
  },
  {
   "cell_type": "code",
   "execution_count": 40,
   "id": "effbba41",
   "metadata": {},
   "outputs": [
    {
     "ename": "TypeError",
     "evalue": "'int' object is not iterable",
     "output_type": "error",
     "traceback": [
      "\u001b[1;31m---------------------------------------------------------------------------\u001b[0m",
      "\u001b[1;31mTypeError\u001b[0m                                 Traceback (most recent call last)",
      "\u001b[1;32m~\\AppData\\Local\\Temp/ipykernel_9580/171201992.py\u001b[0m in \u001b[0;36m<module>\u001b[1;34m\u001b[0m\n\u001b[0;32m      2\u001b[0m \u001b[1;33m\u001b[0m\u001b[0m\n\u001b[0;32m      3\u001b[0m \u001b[1;31m#Mensagem de erro devido a passagem de parâmetro não iterável\u001b[0m\u001b[1;33m\u001b[0m\u001b[1;33m\u001b[0m\u001b[0m\n\u001b[1;32m----> 4\u001b[1;33m \u001b[0mL\u001b[0m\u001b[1;33m.\u001b[0m\u001b[0mextend\u001b[0m\u001b[1;33m(\u001b[0m\u001b[1;36m10\u001b[0m\u001b[1;33m)\u001b[0m\u001b[1;33m\u001b[0m\u001b[1;33m\u001b[0m\u001b[0m\n\u001b[0m\u001b[0;32m      5\u001b[0m \u001b[0mL\u001b[0m\u001b[1;33m\u001b[0m\u001b[1;33m\u001b[0m\u001b[0m\n",
      "\u001b[1;31mTypeError\u001b[0m: 'int' object is not iterable"
     ]
    }
   ],
   "source": [
    "L = [1, 2]\n",
    "\n",
    "#Mensagem de erro devido a passagem de parâmetro não iterável\n",
    "L.extend(10)\n",
    "L"
   ]
  },
  {
   "cell_type": "markdown",
   "id": "68eccdf1",
   "metadata": {},
   "source": [
    "<br>\n",
    "\n",
    "#### Método insert()\n",
    "\n",
    "O **método insert()** insere um item em uma dada posição. \n",
    "\n",
    "O primeiro argumento é o **índice** do elemento antes do qual será feita a inserção e o segundo argumento é o **elemento** a ser inserido."
   ]
  },
  {
   "cell_type": "code",
   "execution_count": 42,
   "id": "a013cb7e",
   "metadata": {},
   "outputs": [
    {
     "data": {
      "text/plain": [
       "[1, 1.5, 2]"
      ]
     },
     "execution_count": 42,
     "metadata": {},
     "output_type": "execute_result"
    }
   ],
   "source": [
    "L = [1, 2]\n",
    "L.insert(1, 1.5)\n",
    "L"
   ]
  },
  {
   "cell_type": "code",
   "execution_count": 43,
   "id": "1233e971",
   "metadata": {},
   "outputs": [
    {
     "data": {
      "text/plain": [
       "[[0, 1], 2, 3]"
      ]
     },
     "execution_count": 43,
     "metadata": {},
     "output_type": "execute_result"
    }
   ],
   "source": [
    "L = [2, 3]\n",
    "L.insert(0, [0, 1])\n",
    "L"
   ]
  },
  {
   "cell_type": "code",
   "execution_count": 44,
   "id": "3ce6ab56",
   "metadata": {},
   "outputs": [
    {
     "data": {
      "text/plain": [
       "[1, 2, [3, 4]]"
      ]
     },
     "execution_count": 44,
     "metadata": {},
     "output_type": "execute_result"
    }
   ],
   "source": [
    "L = [1, 2]\n",
    "L.insert(2, [3, 4])\n",
    "L"
   ]
  },
  {
   "cell_type": "code",
   "execution_count": 45,
   "id": "a4bd93d0",
   "metadata": {},
   "outputs": [
    {
     "data": {
      "text/plain": [
       "[1, 2, [3, 4], 3]"
      ]
     },
     "execution_count": 45,
     "metadata": {},
     "output_type": "execute_result"
    }
   ],
   "source": [
    "L = [1, 2, 3]\n",
    "L.insert(2, [3, 4])\n",
    "L"
   ]
  },
  {
   "cell_type": "markdown",
   "id": "061db8df",
   "metadata": {},
   "source": [
    "<br>\n",
    "\n",
    "#### Comando +"
   ]
  },
  {
   "cell_type": "markdown",
   "id": "46b00c50",
   "metadata": {},
   "source": [
    "O comando \"+\" também pode ser utilizado para adicionar elementos a uma lista:"
   ]
  },
  {
   "cell_type": "code",
   "execution_count": 46,
   "id": "1c41f106",
   "metadata": {},
   "outputs": [
    {
     "data": {
      "text/plain": [
       "[1]"
      ]
     },
     "execution_count": 46,
     "metadata": {},
     "output_type": "execute_result"
    }
   ],
   "source": [
    "L = []\n",
    "L = L + [1]\n",
    "L"
   ]
  },
  {
   "cell_type": "code",
   "execution_count": 47,
   "id": "d506e2c7",
   "metadata": {},
   "outputs": [
    {
     "data": {
      "text/plain": [
       "[1, 2, 3, [4, 5]]"
      ]
     },
     "execution_count": 47,
     "metadata": {},
     "output_type": "execute_result"
    }
   ],
   "source": [
    "L = [1, 2]\n",
    "L = L + [3, [4, 5]]\n",
    "L "
   ]
  },
  {
   "cell_type": "code",
   "execution_count": 48,
   "id": "f87f30d6",
   "metadata": {},
   "outputs": [
    {
     "ename": "TypeError",
     "evalue": "can only concatenate list (not \"int\") to list",
     "output_type": "error",
     "traceback": [
      "\u001b[1;31m---------------------------------------------------------------------------\u001b[0m",
      "\u001b[1;31mTypeError\u001b[0m                                 Traceback (most recent call last)",
      "\u001b[1;32m~\\AppData\\Local\\Temp/ipykernel_9580/2615278005.py\u001b[0m in \u001b[0;36m<module>\u001b[1;34m\u001b[0m\n\u001b[0;32m      2\u001b[0m \u001b[1;33m\u001b[0m\u001b[0m\n\u001b[0;32m      3\u001b[0m \u001b[1;31m#Erro - o parâmetro precisa ser uma lista\u001b[0m\u001b[1;33m\u001b[0m\u001b[1;33m\u001b[0m\u001b[0m\n\u001b[1;32m----> 4\u001b[1;33m \u001b[0mL\u001b[0m \u001b[1;33m=\u001b[0m \u001b[0mL\u001b[0m \u001b[1;33m+\u001b[0m \u001b[1;36m3\u001b[0m\u001b[1;33m\u001b[0m\u001b[1;33m\u001b[0m\u001b[0m\n\u001b[0m\u001b[0;32m      5\u001b[0m \u001b[0mL\u001b[0m\u001b[1;33m\u001b[0m\u001b[1;33m\u001b[0m\u001b[0m\n",
      "\u001b[1;31mTypeError\u001b[0m: can only concatenate list (not \"int\") to list"
     ]
    }
   ],
   "source": [
    "L = [1, 2]\n",
    "\n",
    "#Erro - o parâmetro precisa ser uma lista\n",
    "L = L + 3\n",
    "L"
   ]
  },
  {
   "cell_type": "markdown",
   "id": "a654f0ba",
   "metadata": {},
   "source": [
    "\n",
    "#### Comando  *"
   ]
  },
  {
   "cell_type": "markdown",
   "id": "41fa813b",
   "metadata": {},
   "source": [
    "O símbolo \"*\" é utilizado para criar repetições:"
   ]
  },
  {
   "cell_type": "code",
   "execution_count": 49,
   "id": "43f9105f",
   "metadata": {},
   "outputs": [
    {
     "data": {
      "text/plain": [
       "[2, 2, 2]"
      ]
     },
     "execution_count": 49,
     "metadata": {},
     "output_type": "execute_result"
    }
   ],
   "source": [
    "L = [2]\n",
    "L = L * 3\n",
    "L"
   ]
  },
  {
   "cell_type": "code",
   "execution_count": 50,
   "id": "b155129f",
   "metadata": {},
   "outputs": [
    {
     "data": {
      "text/plain": [
       "[1, 2, 1, 2]"
      ]
     },
     "execution_count": 50,
     "metadata": {},
     "output_type": "execute_result"
    }
   ],
   "source": [
    "L = [1, 2]\n",
    "L = L * 2\n",
    "L"
   ]
  },
  {
   "cell_type": "code",
   "execution_count": 51,
   "id": "ec8ab130",
   "metadata": {},
   "outputs": [
    {
     "name": "stdout",
     "output_type": "stream",
     "text": [
      "['a', 'a', 'a']\n",
      "aaa\n",
      "6\n"
     ]
    }
   ],
   "source": [
    "#Cria lista\n",
    "L = ['a'] * 3\n",
    "print(L)\n",
    "\n",
    "#Concatena strings\n",
    "L = 'a' * 3\n",
    "print(L)\n",
    "\n",
    "#Armazena o produto entre dois números\n",
    "L = 2 * 3\n",
    "print(L)"
   ]
  },
  {
   "cell_type": "markdown",
   "id": "9dedf3b4",
   "metadata": {},
   "source": [
    "**Problema**: Elabore um programa que crie uma matriz nula com 3 linhas e 3 colunas."
   ]
  },
  {
   "cell_type": "code",
   "execution_count": 52,
   "id": "73dba7a5",
   "metadata": {},
   "outputs": [
    {
     "name": "stdout",
     "output_type": "stream",
     "text": [
      "[[0, 0, 0], [0, 0, 0], [0, 0, 0]]\n"
     ]
    }
   ],
   "source": [
    "#Número de linhas\n",
    "n_linhas = 3\n",
    "\n",
    "#Número de colunas\n",
    "n_col = 3\n",
    "\n",
    "Matriz = []\n",
    "for i in range(n_linhas):\n",
    "    Matriz.append([0] * n_col)\n",
    "\n",
    "print(Matriz)"
   ]
  },
  {
   "cell_type": "markdown",
   "id": "1a3f430d",
   "metadata": {},
   "source": [
    "<br>\n",
    "\n",
    "### 1.1.6 Remoção de elementos em listas"
   ]
  },
  {
   "cell_type": "markdown",
   "id": "4476886b",
   "metadata": {},
   "source": [
    "A remoção de elementos em listas pode ser realizada utilizando-se os seguintes métodos:\n",
    "\n",
    "* remove( )\n",
    "* pop( )\n",
    "* clear( )\n",
    "\n",
    "O comando **del( )** também pode ser utilizado para remover elementos em listas.\n"
   ]
  },
  {
   "cell_type": "markdown",
   "id": "003160a6",
   "metadata": {},
   "source": [
    "#### Método remove( )\n",
    "Considerando uma lista L, a forma geral do método remove( ) é:\n",
    "```python\n",
    "L.remove(x)\n",
    "```\n",
    "Remove o **primeiro item** encontrado na lista cujo valor é igual a x."
   ]
  },
  {
   "cell_type": "code",
   "execution_count": 53,
   "id": "b9cb9a33",
   "metadata": {},
   "outputs": [
    {
     "data": {
      "text/plain": [
       "[1, 3, [4, 5], 6, 2]"
      ]
     },
     "execution_count": 53,
     "metadata": {},
     "output_type": "execute_result"
    }
   ],
   "source": [
    "L = [1, 2, 3, [4, 5], 6, 2]\n",
    "L.remove(2)\n",
    "L"
   ]
  },
  {
   "cell_type": "code",
   "execution_count": 54,
   "id": "e6e8735f",
   "metadata": {},
   "outputs": [
    {
     "ename": "ValueError",
     "evalue": "list.remove(x): x not in list",
     "output_type": "error",
     "traceback": [
      "\u001b[1;31m---------------------------------------------------------------------------\u001b[0m",
      "\u001b[1;31mValueError\u001b[0m                                Traceback (most recent call last)",
      "\u001b[1;32m~\\AppData\\Local\\Temp/ipykernel_9580/1870247083.py\u001b[0m in \u001b[0;36m<module>\u001b[1;34m\u001b[0m\n\u001b[0;32m      2\u001b[0m \u001b[1;33m\u001b[0m\u001b[0m\n\u001b[0;32m      3\u001b[0m \u001b[1;31m#Erro! Embora a lista [4, 5] contenha o valor 4, o valor em si não está na lista\u001b[0m\u001b[1;33m\u001b[0m\u001b[1;33m\u001b[0m\u001b[0m\n\u001b[1;32m----> 4\u001b[1;33m \u001b[0mL\u001b[0m\u001b[1;33m.\u001b[0m\u001b[0mremove\u001b[0m\u001b[1;33m(\u001b[0m\u001b[1;36m4\u001b[0m\u001b[1;33m)\u001b[0m\u001b[1;33m\u001b[0m\u001b[1;33m\u001b[0m\u001b[0m\n\u001b[0m\u001b[0;32m      5\u001b[0m \u001b[0mL\u001b[0m\u001b[1;33m\u001b[0m\u001b[1;33m\u001b[0m\u001b[0m\n",
      "\u001b[1;31mValueError\u001b[0m: list.remove(x): x not in list"
     ]
    }
   ],
   "source": [
    "L = [1, 2, 3, [4, 5], 6]\n",
    "\n",
    "#Erro! Embora a lista [4, 5] contenha o valor 4, o valor em si não está na lista\n",
    "L.remove(4)\n",
    "L"
   ]
  },
  {
   "cell_type": "code",
   "execution_count": 55,
   "id": "c439604a",
   "metadata": {},
   "outputs": [
    {
     "ename": "ValueError",
     "evalue": "list.remove(x): x not in list",
     "output_type": "error",
     "traceback": [
      "\u001b[1;31m---------------------------------------------------------------------------\u001b[0m",
      "\u001b[1;31mValueError\u001b[0m                                Traceback (most recent call last)",
      "\u001b[1;32m~\\AppData\\Local\\Temp/ipykernel_9580/2653711734.py\u001b[0m in \u001b[0;36m<module>\u001b[1;34m\u001b[0m\n\u001b[0;32m      2\u001b[0m \u001b[1;33m\u001b[0m\u001b[0m\n\u001b[0;32m      3\u001b[0m \u001b[1;31m#Erro! Embora o valor 2 esteja na lista, a lista [2] não está.\u001b[0m\u001b[1;33m\u001b[0m\u001b[1;33m\u001b[0m\u001b[0m\n\u001b[1;32m----> 4\u001b[1;33m \u001b[0mL\u001b[0m\u001b[1;33m.\u001b[0m\u001b[0mremove\u001b[0m\u001b[1;33m(\u001b[0m\u001b[1;33m[\u001b[0m\u001b[1;36m2\u001b[0m\u001b[1;33m]\u001b[0m\u001b[1;33m)\u001b[0m\u001b[1;33m\u001b[0m\u001b[1;33m\u001b[0m\u001b[0m\n\u001b[0m\u001b[0;32m      5\u001b[0m \u001b[0mL\u001b[0m\u001b[1;33m\u001b[0m\u001b[1;33m\u001b[0m\u001b[0m\n",
      "\u001b[1;31mValueError\u001b[0m: list.remove(x): x not in list"
     ]
    }
   ],
   "source": [
    "L = [1, 2, 3, 4, 5, 6]\n",
    "\n",
    "#Erro! Embora o valor 2 esteja na lista, a lista [2] não está.\n",
    "L.remove([2])\n",
    "L"
   ]
  },
  {
   "cell_type": "markdown",
   "id": "d9ce7cb9",
   "metadata": {},
   "source": [
    "<br>\n",
    "\n",
    "#### Método pop( )\n",
    "\n",
    "Remove um item em uma dada **posição** na lista e o retorna. \n",
    "\n",
    "Se nenhum índice é especificado, pop() remove e devolve o último item da lista."
   ]
  },
  {
   "cell_type": "code",
   "execution_count": 56,
   "id": "2f139a69",
   "metadata": {},
   "outputs": [
    {
     "data": {
      "text/plain": [
       "[1, 3, 4, 5, 6]"
      ]
     },
     "execution_count": 56,
     "metadata": {},
     "output_type": "execute_result"
    }
   ],
   "source": [
    "L = [1, 2, 3, 4, 5, 6]\n",
    "L.pop(1)\n",
    "L"
   ]
  },
  {
   "cell_type": "code",
   "execution_count": 57,
   "id": "013ab60b",
   "metadata": {},
   "outputs": [
    {
     "data": {
      "text/plain": [
       "[1, 2, 3, 4, 5]"
      ]
     },
     "execution_count": 57,
     "metadata": {},
     "output_type": "execute_result"
    }
   ],
   "source": [
    "L = [1, 2, 3, 4, 5, 6]\n",
    "L.pop()\n",
    "L"
   ]
  },
  {
   "cell_type": "markdown",
   "id": "2fb19402",
   "metadata": {},
   "source": [
    "<br>\n",
    "\n",
    "#### Método clear( )\n",
    "\n",
    "Remove **todos os itens** de uma lista. "
   ]
  },
  {
   "cell_type": "code",
   "execution_count": 58,
   "id": "7004a7ec",
   "metadata": {},
   "outputs": [
    {
     "data": {
      "text/plain": [
       "[]"
      ]
     },
     "execution_count": 58,
     "metadata": {},
     "output_type": "execute_result"
    }
   ],
   "source": [
    "L = [1, 2, 3, 4, 5, 6]\n",
    "L.clear()\n",
    "L"
   ]
  },
  {
   "cell_type": "markdown",
   "id": "5b5599b2",
   "metadata": {},
   "source": [
    "<br>\n",
    "\n",
    "#### Comando del( )\n",
    "\n",
    "Remove da memória o(s) elemento(s) passado como parâmetro. "
   ]
  },
  {
   "cell_type": "code",
   "execution_count": 59,
   "id": "a0b25d28",
   "metadata": {},
   "outputs": [
    {
     "data": {
      "text/plain": [
       "[2, 3, 4, 5, 6]"
      ]
     },
     "execution_count": 59,
     "metadata": {},
     "output_type": "execute_result"
    }
   ],
   "source": [
    "L = [1, 2, 3, 4, 5, 6]\n",
    "del L[0]\n",
    "L"
   ]
  },
  {
   "cell_type": "code",
   "execution_count": 60,
   "id": "d114e6b5",
   "metadata": {},
   "outputs": [
    {
     "data": {
      "text/plain": [
       "[3, 4, 5, 6]"
      ]
     },
     "execution_count": 60,
     "metadata": {},
     "output_type": "execute_result"
    }
   ],
   "source": [
    "L = [1, 2, 3, 4, 5, 6]\n",
    "del L[0:2]\n",
    "L"
   ]
  },
  {
   "cell_type": "code",
   "execution_count": 61,
   "id": "16cc0eec",
   "metadata": {},
   "outputs": [
    {
     "data": {
      "text/plain": [
       "[]"
      ]
     },
     "execution_count": 61,
     "metadata": {},
     "output_type": "execute_result"
    }
   ],
   "source": [
    "L = [1, 2, 3, 4, 5, 6]\n",
    "\n",
    "#Equivale a L.clear()\n",
    "del L[:]\n",
    "L"
   ]
  },
  {
   "cell_type": "code",
   "execution_count": 62,
   "id": "97c2f0e5",
   "metadata": {},
   "outputs": [
    {
     "name": "stdout",
     "output_type": "stream",
     "text": [
      "True\n",
      "False\n"
     ]
    }
   ],
   "source": [
    "L = [1, 2, 3, 4, 5, 6]\n",
    "\n",
    "#dir() retorna uma lista de nomes do escopo atual\n",
    "#exibe em tela se L foi definida\n",
    "print('L' in dir())\n",
    "\n",
    "#apaga L\n",
    "del L\n",
    "print('L' in dir())\n"
   ]
  },
  {
   "cell_type": "markdown",
   "id": "165805de",
   "metadata": {},
   "source": [
    "### 1.1.6 Inversão da Lista"
   ]
  },
  {
   "cell_type": "markdown",
   "id": "551831f7",
   "metadata": {},
   "source": [
    "O método reverse( ) inverte a ordem dos elementos na lista."
   ]
  },
  {
   "cell_type": "code",
   "execution_count": 63,
   "id": "c7cd4a3b",
   "metadata": {},
   "outputs": [
    {
     "data": {
      "text/plain": [
       "[6, 5, 4, 3, 2, 1]"
      ]
     },
     "execution_count": 63,
     "metadata": {},
     "output_type": "execute_result"
    }
   ],
   "source": [
    "L = [1, 2, 3, 4, 5, 6]\n",
    "L.reverse()\n",
    "L"
   ]
  },
  {
   "cell_type": "markdown",
   "id": "bfd8528f",
   "metadata": {},
   "source": [
    "### 1.1.7 Ordenação dos elementos de uma lista"
   ]
  },
  {
   "cell_type": "markdown",
   "id": "8a605d4e",
   "metadata": {},
   "source": [
    "A ordenação de uma lista pode ser realizada utilizando-se o método **sort( )** ou a função **sorted( )**."
   ]
  },
  {
   "cell_type": "code",
   "execution_count": 64,
   "id": "232d0219",
   "metadata": {},
   "outputs": [
    {
     "data": {
      "text/plain": [
       "[6, 9, 10, 25, 40, 50]"
      ]
     },
     "execution_count": 64,
     "metadata": {},
     "output_type": "execute_result"
    }
   ],
   "source": [
    "#O método sort() sobrescreve a lista original com seus valores ordenados\n",
    "L = [10, 9, 50, 40, 25, 6]\n",
    "L.sort()\n",
    "L"
   ]
  },
  {
   "cell_type": "code",
   "execution_count": 65,
   "id": "ca77c3aa",
   "metadata": {},
   "outputs": [
    {
     "data": {
      "text/plain": [
       "[6, 9, 10, 25, 40, 50]"
      ]
     },
     "execution_count": 65,
     "metadata": {},
     "output_type": "execute_result"
    }
   ],
   "source": [
    "#A função sorted() preserva a ordem da lista original\n",
    "L = [10, 9, 50, 40, 25, 6]\n",
    "sorted(L)"
   ]
  },
  {
   "cell_type": "markdown",
   "id": "1d0fc064",
   "metadata": {},
   "source": [
    "### 1.1.8 Consultas na Lista"
   ]
  },
  {
   "cell_type": "markdown",
   "id": "ef28b2ad",
   "metadata": {},
   "source": [
    "Para realizar consultas na lista, podemos utilizar os seguintes métodos:\n",
    "\n",
    "* index( )\n",
    "* count( )\n"
   ]
  },
  {
   "cell_type": "markdown",
   "id": "a104183b",
   "metadata": {},
   "source": [
    "#### Método index( )\n",
    "\n",
    "Segue abaixo a **forma geral** para o método index( ), considerando uma lista Lista: \n",
    "\n",
    "<br>\n",
    "<div style=\"text-align:center; color:blue\"> Lista.index( x, [início] , [final] ) </div>\n",
    "<br>\n",
    "\n",
    "Este método retorna o índice do primeiro item cujo valor é igual a x. Os parâmetros **início e final são opcionais** e usados para limitar a busca para uma subsequência específica da lista."
   ]
  },
  {
   "cell_type": "code",
   "execution_count": 66,
   "id": "017a5e63",
   "metadata": {},
   "outputs": [
    {
     "data": {
      "text/plain": [
       "2"
      ]
     },
     "execution_count": 66,
     "metadata": {},
     "output_type": "execute_result"
    }
   ],
   "source": [
    "L = [10, 30, 12, 23, 43, 13, 42, 84, 104, 4, 55, 80, 5, 125, 12, 66, 7, 85, 90, 60, 12]\n",
    "L.index(12)"
   ]
  },
  {
   "cell_type": "code",
   "execution_count": 67,
   "id": "2dcca82d",
   "metadata": {},
   "outputs": [
    {
     "data": {
      "text/plain": [
       "4"
      ]
     },
     "execution_count": 67,
     "metadata": {},
     "output_type": "execute_result"
    }
   ],
   "source": [
    "L = [10, 30, 12, 23, 43, 13, 42, 84, 104, 4, 55, 80, 5, 125, 121, 66, 7, 85, 90, 60, 12]\n",
    "L.index(43, 0, 10)"
   ]
  },
  {
   "cell_type": "markdown",
   "id": "6ca19f77",
   "metadata": {},
   "source": [
    "#### Método count( )"
   ]
  },
  {
   "cell_type": "markdown",
   "id": "fac08184",
   "metadata": {},
   "source": [
    "O método count( ) devolve o **número de vezes** em que um elemento passado como parâmetro aparece na lista."
   ]
  },
  {
   "cell_type": "code",
   "execution_count": 68,
   "id": "6834eea7",
   "metadata": {},
   "outputs": [
    {
     "data": {
      "text/plain": [
       "2"
      ]
     },
     "execution_count": 68,
     "metadata": {},
     "output_type": "execute_result"
    }
   ],
   "source": [
    "L = [10, 30, 12, 23, 43, 13, 42, 84, 104, 4, 55, 80, 5, 125, 121, 66, 7, 85, 90, 60, 12]\n",
    "L.count(12)"
   ]
  },
  {
   "cell_type": "code",
   "execution_count": 69,
   "id": "9caf6809",
   "metadata": {},
   "outputs": [
    {
     "data": {
      "text/plain": [
       "1"
      ]
     },
     "execution_count": 69,
     "metadata": {},
     "output_type": "execute_result"
    }
   ],
   "source": [
    "L = [10, 30, 12, 23, 43, 13, 42, 84, 104, 4, 55, 80, 5, 125, 121, 66, 7, 85, 90, 60, 12]\n",
    "L.count(30)"
   ]
  }
 ],
 "metadata": {
  "colab": {
   "name": "Coleções.ipynb",
   "provenance": []
  },
  "kernelspec": {
   "display_name": "Python 3 (ipykernel)",
   "language": "python",
   "name": "python3"
  },
  "language_info": {
   "codemirror_mode": {
    "name": "ipython",
    "version": 3
   },
   "file_extension": ".py",
   "mimetype": "text/x-python",
   "name": "python",
   "nbconvert_exporter": "python",
   "pygments_lexer": "ipython3",
   "version": "3.9.7"
  }
 },
 "nbformat": 4,
 "nbformat_minor": 5
}
